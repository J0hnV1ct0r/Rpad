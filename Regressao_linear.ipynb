{
 "cells": [
  {
   "cell_type": "markdown",
   "metadata": {
    "colab_type": "text",
    "id": "view-in-github"
   },
   "source": [
    "<a href=\"https://colab.research.google.com/github/J0hnV1ct0r/Rpad/blob/main/Regressao_linear.ipynb\" target=\"_parent\"><img src=\"https://colab.research.google.com/assets/colab-badge.svg\" alt=\"Open In Colab\"/></a>"
   ]
  },
  {
   "cell_type": "markdown",
   "metadata": {
    "id": "ZwK3rmyyrK7q"
   },
   "source": [
    "# Dados"
   ]
  },
  {
   "cell_type": "code",
   "execution_count": 1,
   "metadata": {
    "id": "ZhdFvkswp2p5"
   },
   "outputs": [],
   "source": [
    "import pandas as pd\n",
    "import random\n",
    "import matplotlib.pyplot as plt\n",
    "from sklearn.model_selection import train_test_split\n",
    "import matplotlib.animation as animation\n",
    "import numpy as np"
   ]
  },
  {
   "cell_type": "code",
   "execution_count": 4,
   "metadata": {
    "colab": {
     "base_uri": "https://localhost:8080/",
     "height": 989
    },
    "id": "PqkXFDjwp7Hc",
    "outputId": "7608376e-7a0a-42ad-9ff7-d1b243d5c1ac"
   },
   "outputs": [
    {
     "data": {
      "text/html": [
       "<div>\n",
       "<style scoped>\n",
       "    .dataframe tbody tr th:only-of-type {\n",
       "        vertical-align: middle;\n",
       "    }\n",
       "\n",
       "    .dataframe tbody tr th {\n",
       "        vertical-align: top;\n",
       "    }\n",
       "\n",
       "    .dataframe thead th {\n",
       "        text-align: right;\n",
       "    }\n",
       "</style>\n",
       "<table border=\"1\" class=\"dataframe\">\n",
       "  <thead>\n",
       "    <tr style=\"text-align: right;\">\n",
       "      <th></th>\n",
       "      <th>x</th>\n",
       "      <th>y</th>\n",
       "    </tr>\n",
       "  </thead>\n",
       "  <tbody>\n",
       "    <tr>\n",
       "      <th>0</th>\n",
       "      <td>-1.000000</td>\n",
       "      <td>-2.082017</td>\n",
       "    </tr>\n",
       "    <tr>\n",
       "      <th>1</th>\n",
       "      <td>-0.931034</td>\n",
       "      <td>-1.326980</td>\n",
       "    </tr>\n",
       "    <tr>\n",
       "      <th>2</th>\n",
       "      <td>-0.862069</td>\n",
       "      <td>-1.105598</td>\n",
       "    </tr>\n",
       "    <tr>\n",
       "      <th>3</th>\n",
       "      <td>-0.793103</td>\n",
       "      <td>-0.873946</td>\n",
       "    </tr>\n",
       "    <tr>\n",
       "      <th>4</th>\n",
       "      <td>-0.724138</td>\n",
       "      <td>-0.285027</td>\n",
       "    </tr>\n",
       "    <tr>\n",
       "      <th>5</th>\n",
       "      <td>-0.655172</td>\n",
       "      <td>-0.431153</td>\n",
       "    </tr>\n",
       "    <tr>\n",
       "      <th>6</th>\n",
       "      <td>-0.586207</td>\n",
       "      <td>-0.794754</td>\n",
       "    </tr>\n",
       "    <tr>\n",
       "      <th>7</th>\n",
       "      <td>-0.517241</td>\n",
       "      <td>-0.886068</td>\n",
       "    </tr>\n",
       "    <tr>\n",
       "      <th>8</th>\n",
       "      <td>-0.448276</td>\n",
       "      <td>-0.899900</td>\n",
       "    </tr>\n",
       "    <tr>\n",
       "      <th>9</th>\n",
       "      <td>-0.379310</td>\n",
       "      <td>-0.861844</td>\n",
       "    </tr>\n",
       "    <tr>\n",
       "      <th>10</th>\n",
       "      <td>-0.310345</td>\n",
       "      <td>-0.888052</td>\n",
       "    </tr>\n",
       "    <tr>\n",
       "      <th>11</th>\n",
       "      <td>-0.241379</td>\n",
       "      <td>-1.235951</td>\n",
       "    </tr>\n",
       "    <tr>\n",
       "      <th>12</th>\n",
       "      <td>-0.172414</td>\n",
       "      <td>-0.719568</td>\n",
       "    </tr>\n",
       "    <tr>\n",
       "      <th>13</th>\n",
       "      <td>-0.103448</td>\n",
       "      <td>-0.452023</td>\n",
       "    </tr>\n",
       "    <tr>\n",
       "      <th>14</th>\n",
       "      <td>-0.034483</td>\n",
       "      <td>0.098900</td>\n",
       "    </tr>\n",
       "    <tr>\n",
       "      <th>15</th>\n",
       "      <td>0.034483</td>\n",
       "      <td>0.348970</td>\n",
       "    </tr>\n",
       "    <tr>\n",
       "      <th>16</th>\n",
       "      <td>0.103448</td>\n",
       "      <td>0.097478</td>\n",
       "    </tr>\n",
       "    <tr>\n",
       "      <th>17</th>\n",
       "      <td>0.172414</td>\n",
       "      <td>0.700198</td>\n",
       "    </tr>\n",
       "    <tr>\n",
       "      <th>18</th>\n",
       "      <td>0.241379</td>\n",
       "      <td>1.310512</td>\n",
       "    </tr>\n",
       "    <tr>\n",
       "      <th>19</th>\n",
       "      <td>0.310345</td>\n",
       "      <td>1.001776</td>\n",
       "    </tr>\n",
       "    <tr>\n",
       "      <th>20</th>\n",
       "      <td>0.379310</td>\n",
       "      <td>1.003182</td>\n",
       "    </tr>\n",
       "    <tr>\n",
       "      <th>21</th>\n",
       "      <td>0.448276</td>\n",
       "      <td>1.149101</td>\n",
       "    </tr>\n",
       "    <tr>\n",
       "      <th>22</th>\n",
       "      <td>0.517241</td>\n",
       "      <td>1.592206</td>\n",
       "    </tr>\n",
       "    <tr>\n",
       "      <th>23</th>\n",
       "      <td>0.586207</td>\n",
       "      <td>0.609090</td>\n",
       "    </tr>\n",
       "    <tr>\n",
       "      <th>24</th>\n",
       "      <td>0.655172</td>\n",
       "      <td>0.594416</td>\n",
       "    </tr>\n",
       "    <tr>\n",
       "      <th>25</th>\n",
       "      <td>0.724138</td>\n",
       "      <td>0.703007</td>\n",
       "    </tr>\n",
       "    <tr>\n",
       "      <th>26</th>\n",
       "      <td>0.793103</td>\n",
       "      <td>0.823322</td>\n",
       "    </tr>\n",
       "    <tr>\n",
       "      <th>27</th>\n",
       "      <td>0.862069</td>\n",
       "      <td>1.106464</td>\n",
       "    </tr>\n",
       "    <tr>\n",
       "      <th>28</th>\n",
       "      <td>0.931034</td>\n",
       "      <td>1.422957</td>\n",
       "    </tr>\n",
       "    <tr>\n",
       "      <th>29</th>\n",
       "      <td>1.000000</td>\n",
       "      <td>2.309838</td>\n",
       "    </tr>\n",
       "  </tbody>\n",
       "</table>\n",
       "</div>"
      ],
      "text/plain": [
       "           x         y\n",
       "0  -1.000000 -2.082017\n",
       "1  -0.931034 -1.326980\n",
       "2  -0.862069 -1.105598\n",
       "3  -0.793103 -0.873946\n",
       "4  -0.724138 -0.285027\n",
       "5  -0.655172 -0.431153\n",
       "6  -0.586207 -0.794754\n",
       "7  -0.517241 -0.886068\n",
       "8  -0.448276 -0.899900\n",
       "9  -0.379310 -0.861844\n",
       "10 -0.310345 -0.888052\n",
       "11 -0.241379 -1.235951\n",
       "12 -0.172414 -0.719568\n",
       "13 -0.103448 -0.452023\n",
       "14 -0.034483  0.098900\n",
       "15  0.034483  0.348970\n",
       "16  0.103448  0.097478\n",
       "17  0.172414  0.700198\n",
       "18  0.241379  1.310512\n",
       "19  0.310345  1.001776\n",
       "20  0.379310  1.003182\n",
       "21  0.448276  1.149101\n",
       "22  0.517241  1.592206\n",
       "23  0.586207  0.609090\n",
       "24  0.655172  0.594416\n",
       "25  0.724138  0.703007\n",
       "26  0.793103  0.823322\n",
       "27  0.862069  1.106464\n",
       "28  0.931034  1.422957\n",
       "29  1.000000  2.309838"
      ]
     },
     "execution_count": 4,
     "metadata": {},
     "output_type": "execute_result"
    }
   ],
   "source": [
    "dados=pd.read_csv('dados/artificial1d.csv',header=None)\n",
    "dados = dados.rename(columns={dados.columns[0]: 'x', dados.columns[1]: 'y'})\n",
    "dados"
   ]
  },
  {
   "cell_type": "markdown",
   "metadata": {
    "id": "2UEMHLoWrKPI"
   },
   "source": [
    "# Modelo"
   ]
  },
  {
   "cell_type": "code",
   "execution_count": null,
   "metadata": {
    "id": "uVXP8DHktXs4"
   },
   "outputs": [],
   "source": [
    "class LinearRegression:\n",
    "  def __init__(self,opt='SGD'):\n",
    "    self.w1=0.0\n",
    "    self.w0=0.0\n",
    "    self.w =[]\n",
    "    self.opt=opt\n",
    "    self.losses=[]\n",
    "    self.w1_hist=[]\n",
    "    self.w0_hist=[]\n",
    "\n",
    "  def fit(self, X, y, lr=0.001, epochs=100):\n",
    "\n",
    "    if self.opt=='SGD':\n",
    "      self.fit_SGD(X, y, lr, epochs)\n",
    "\n",
    "    elif self.opt=='GD':\n",
    "      self.fit_GD(X, y, lr, epochs)\n",
    "\n",
    "    elif self.opt=='OLS':\n",
    "      self.fit_OLS(X, y)\n",
    "    else:\n",
    "      print('otimizador não encontrado')\n",
    "\n",
    "  def fit_SGD(self, X, y, lr=0.001, epochs=100):\n",
    "    for i in range(epochs):\n",
    "      errors=[]\n",
    "      indices = list(range(len(X)))\n",
    "      random.shuffle(indices)\n",
    "\n",
    "      for sample in indices:\n",
    "        #Calculo dos erros\n",
    "        y_pred=self.w1*X[sample]+self.w0\n",
    "        error=y[sample]-y_pred\n",
    "        errors.append(error)\n",
    "\n",
    "        #ajuste dos Ws\n",
    "        self.w0=self.w0+lr*error\n",
    "        self.w1=self.w1+lr*error*X[sample]\n",
    "\n",
    "        #Salvamento do historico de Ws\n",
    "        self.w1_hist.append(self.w1)\n",
    "        self.w0_hist.append(self.w0)\n",
    "\n",
    "      #Calculo da loss\n",
    "      loss=self.loss_function(errors)\n",
    "      self.losses.append(loss)\n",
    "\n",
    "  def fit_GD(self, X, y, lr=0.001, epochs=100):\n",
    "    for i in range(epochs):\n",
    "      errors=[]\n",
    "\n",
    "      #Calculo dos erros\n",
    "      for sample in range(len(X)):\n",
    "        y_pred=self.w1*X[sample]+self.w0\n",
    "        error=y[sample]-y_pred\n",
    "        errors.append(error)\n",
    "\n",
    "      #ajuste dos Ws\n",
    "      self.w0=self.w0+lr*(sum(errors)/len(X))\n",
    "      self.w1=self.w1+lr*(sum([errors[sample]*X[sample] for sample in range(len(X))])/len(X))\n",
    "\n",
    "      #Salvamento do historico de Ws\n",
    "      self.w1_hist.append(self.w1)\n",
    "      self.w0_hist.append(self.w0)\n",
    "\n",
    "      #Calculo da loss\n",
    "      loss=self.loss_function(errors)\n",
    "      self.losses.append(loss)\n",
    "\n",
    "\n",
    "  def fit_OLS(self, X, y):\n",
    "     X = X.to_numpy()  #Converte X para um array numpy\n",
    "     X = X.reshape(-1, 1)  #Da reshape no X para garantir que é 2D\n",
    "     X_b = np.c_[np.ones((X.shape[0], 1)), X]  #Adiciona a coluna de bias\n",
    "     y = y.to_numpy()  #Converte y em um array numpy\n",
    "     w = np.linalg.pinv(X_b.T @ X_b) @ X_b.T @ y\n",
    "     print(w)\n",
    "     self.w0 = w[0]  # Acessa o primeiro elemento de w para obter W0\n",
    "     self.w1 = w[1]  # Acessa o segundo elemento de w para obter W1\n",
    "\n",
    "  def loss_function(self, errors):\n",
    "\n",
    "    loss = sum([error**2 for error in errors])/(2*len(errors))# Calcula a perda e salva na lista\n",
    "    return loss\n",
    "\n",
    "  def predict(self, X):\n",
    "    y_pred=[]# Lista para salvar as predições\n",
    "    for sample in X:\n",
    "      y_pred.append(self.w1*sample+self.w0)# Calcula a predição e salva na lista\n",
    "    return y_pred"
   ]
  },
  {
   "cell_type": "markdown",
   "metadata": {
    "id": "aVBeFJBSijFV"
   },
   "source": [
    "# Teste do modelo"
   ]
  },
  {
   "cell_type": "code",
   "execution_count": null,
   "metadata": {
    "id": "tp6vjEZJilXi"
   },
   "outputs": [],
   "source": [
    "# Separa um grupo de treino e teste\n",
    "train, test = train_test_split(dados, test_size=0.2)\n",
    "train = train.reset_index(drop=True)\n",
    "test = test.reset_index(drop=True)"
   ]
  },
  {
   "cell_type": "markdown",
   "metadata": {
    "id": "cwA9-m_2lN75"
   },
   "source": [
    "##  Modelo com otimizador GD"
   ]
  },
  {
   "cell_type": "code",
   "execution_count": null,
   "metadata": {
    "id": "FkBHWhsztkE1"
   },
   "outputs": [],
   "source": [
    "# Instancia o modelo com o GD como otimizador\n",
    "lr_gd = LinearRegression(opt='GD')"
   ]
  },
  {
   "cell_type": "code",
   "execution_count": null,
   "metadata": {
    "id": "hZsXZVHYvdDB"
   },
   "outputs": [],
   "source": [
    "lr=0.1# Passo de aprendizado\n",
    "epochs=200# Numero de epocas\n",
    "lr_gd.fit(train['x'], train['y'],lr,epochs)# Chamada do treinamento "
   ]
  },
  {
   "cell_type": "code",
   "execution_count": null,
   "metadata": {
    "colab": {
     "base_uri": "https://localhost:8080/",
     "height": 472
    },
    "id": "x32OQajkhjxO",
    "outputId": "295cfb0d-d947-43b5-be04-461ec2f502d6"
   },
   "outputs": [
    {
     "data": {
      "image/png": "[encoded data removed]",
      "text/plain": [
       "<Figure size 640x480 with 1 Axes>"
      ]
     },
     "metadata": {},
     "output_type": "display_data"
    }
   ],
   "source": [
    "# Grafico de perdas por epocas para o otimizador GD\n",
    "plt.plot(range(len(lr_gd.losses)), lr_gd.losses)\n",
    "plt.xlabel('Epoch')\n",
    "plt.ylabel('Loss')\n",
    "plt.title('Loss per Epoch')\n",
    "plt.show()"
   ]
  },
  {
   "cell_type": "code",
   "execution_count": null,
   "metadata": {
    "colab": {
     "base_uri": "https://localhost:8080/",
     "height": 237
    },
    "id": "Lw3yaL8dihZT",
    "outputId": "51c7329e-f9a2-40a5-8a58-f2a8585fc6d3"
   },
   "outputs": [
    {
     "data": {
      "text/html": [
       "<div>\n",
       "<style scoped>\n",
       "    .dataframe tbody tr th:only-of-type {\n",
       "        vertical-align: middle;\n",
       "    }\n",
       "\n",
       "    .dataframe tbody tr th {\n",
       "        vertical-align: top;\n",
       "    }\n",
       "\n",
       "    .dataframe thead th {\n",
       "        text-align: right;\n",
       "    }\n",
       "</style>\n",
       "<table border=\"1\" class=\"dataframe\">\n",
       "  <thead>\n",
       "    <tr style=\"text-align: right;\">\n",
       "      <th></th>\n",
       "      <th>x</th>\n",
       "      <th>y</th>\n",
       "      <th>y_pred_gd</th>\n",
       "    </tr>\n",
       "  </thead>\n",
       "  <tbody>\n",
       "    <tr>\n",
       "      <th>0</th>\n",
       "      <td>-0.103448</td>\n",
       "      <td>-0.452023</td>\n",
       "      <td>0.003066</td>\n",
       "    </tr>\n",
       "    <tr>\n",
       "      <th>1</th>\n",
       "      <td>-1.000000</td>\n",
       "      <td>-2.082017</td>\n",
       "      <td>-1.357749</td>\n",
       "    </tr>\n",
       "    <tr>\n",
       "      <th>2</th>\n",
       "      <td>0.793103</td>\n",
       "      <td>0.823322</td>\n",
       "      <td>1.363882</td>\n",
       "    </tr>\n",
       "    <tr>\n",
       "      <th>3</th>\n",
       "      <td>-0.862069</td>\n",
       "      <td>-1.105598</td>\n",
       "      <td>-1.148393</td>\n",
       "    </tr>\n",
       "    <tr>\n",
       "      <th>4</th>\n",
       "      <td>-0.241379</td>\n",
       "      <td>-1.235951</td>\n",
       "      <td>-0.206290</td>\n",
       "    </tr>\n",
       "    <tr>\n",
       "      <th>5</th>\n",
       "      <td>-0.586207</td>\n",
       "      <td>-0.794754</td>\n",
       "      <td>-0.729680</td>\n",
       "    </tr>\n",
       "  </tbody>\n",
       "</table>\n",
       "</div>"
      ],
      "text/plain": [
       "          x         y  y_pred_gd\n",
       "0 -0.103448 -0.452023   0.003066\n",
       "1 -1.000000 -2.082017  -1.357749\n",
       "2  0.793103  0.823322   1.363882\n",
       "3 -0.862069 -1.105598  -1.148393\n",
       "4 -0.241379 -1.235951  -0.206290\n",
       "5 -0.586207 -0.794754  -0.729680"
      ]
     },
     "execution_count": 67,
     "metadata": {},
     "output_type": "execute_result"
    }
   ],
   "source": [
    "# teste do treinamento\n",
    "y_pred = lr_gd.predict(test['x'])\n",
    "test['y_pred_gd'] = y_pred\n",
    "test"
   ]
  },
  {
   "cell_type": "code",
   "execution_count": 68,
   "metadata": {
    "colab": {
     "base_uri": "https://localhost:8080/",
     "height": 472
    },
    "id": "seuPS9qcri8v",
    "outputId": "87ad95ff-86ac-4b41-bc97-71148199538b"
   },
   "outputs": [
    {
     "data": {
      "image/png": "[encoded data removed]",
      "text/plain": [
       "<Figure size 640x480 with 1 Axes>"
      ]
     },
     "metadata": {},
     "output_type": "display_data"
    }
   ],
   "source": [
    "# Gerar pontos para a reta ajustada (usando intervalo de x do conjunto de treinamento)\n",
    "x_reta = np.linspace(train['x'].min(), train['x'].max(), 100)\n",
    "y_reta = lr_gd.w0 + lr_gd.w1 * x_reta\n",
    "\n",
    "# Plotar os dados de treinamento e a reta ajustada\n",
    "plt.scatter(train['x'], train['y'], label='Dados de Treinamento')  # Plotar apenas dados de treinamento\n",
    "plt.plot(x_reta, y_reta, color='red', label='Reta Ajustada')\n",
    "plt.xlabel('x')\n",
    "plt.ylabel('y')\n",
    "plt.title('Reta Ajustada sobre os Dados de Treinamento')\n",
    "plt.legend()\n",
    "plt.show()"
   ]
  },
  {
   "cell_type": "code",
   "execution_count": 88,
   "metadata": {},
   "outputs": [
    {
     "data": {
      "text/plain": [
       "<Figure size 640x480 with 0 Axes>"
      ]
     },
     "metadata": {},
     "output_type": "display_data"
    }
   ],
   "source": [
    "#Cria e salva uma serie de graficos com o historico de w0 e w1 para montar o gif\n",
    "for i in range(len(lr_gd.w0_hist)):\n",
    "    x_reta = np.linspace(train['x'].min(), train['x'].max(), 100)\n",
    "    y_reta = lr_gd.w0_hist[i] + lr_gd.w1_hist[i] * x_reta\n",
    "\n",
    "    # Plotar os dados de treinamento e a reta ajustada\n",
    "    plt.scatter(train['x'], train['y'], label='Dados de Treinamento')  # Plotar apenas dados de treinamento\n",
    "    plt.plot(x_reta, y_reta, color='red', label='Reta Ajustada')\n",
    "    plt.xlabel('x')\n",
    "    plt.ylabel('y')\n",
    "    plt.title('Ajuste da reta sobre os Dados de Treinamento para o GD')\n",
    "    plt.legend()\n",
    "    plt.savefig(f'graficos/gd/grafico{i}.png')\n",
    "    plt.clf()\n",
    "    "
   ]
  },
  {
   "cell_type": "markdown",
   "metadata": {
    "id": "7KzINmv2oUWh"
   },
   "source": [
    "## Modelo com otimizador sdg"
   ]
  },
  {
   "cell_type": "code",
   "execution_count": null,
   "metadata": {
    "id": "xK30VrKBoXuz"
   },
   "outputs": [],
   "source": [
    "# Instancia o modelo com o SDG como otimizador\n",
    "lr_sgd = LinearRegression(opt='SGD')"
   ]
  },
  {
   "cell_type": "code",
   "execution_count": null,
   "metadata": {
    "id": "EECQ7USzoeQR"
   },
   "outputs": [],
   "source": [
    "lr=0.1# Passo de aprendizagem\n",
    "epochs=200# Numero de epocas\n",
    "lr_sgd.fit(train['x'], train['y'],lr,epochs)# Chamada do treinamento"
   ]
  },
  {
   "cell_type": "code",
   "execution_count": null,
   "metadata": {
    "colab": {
     "base_uri": "https://localhost:8080/",
     "height": 472
    },
    "id": "ubNoJe2Qoic3",
    "outputId": "0e0984d6-1013-42af-c127-038dc76f8818"
   },
   "outputs": [
    {
     "data": {
      "image/png": "[encoded data removed]",
      "text/plain": [
       "<Figure size 640x480 with 1 Axes>"
      ]
     },
     "metadata": {},
     "output_type": "display_data"
    }
   ],
   "source": [
    "# Grafico de perdas por epocas para o otimizador SDG\n",
    "plt.plot(range(len(lr_sgd.losses)), lr_sgd.losses)\n",
    "plt.xlabel('Epoch')\n",
    "plt.ylabel('Loss')\n",
    "plt.title('Loss per Epoch')\n",
    "plt.show()"
   ]
  },
  {
   "cell_type": "code",
   "execution_count": 73,
   "metadata": {
    "colab": {
     "base_uri": "https://localhost:8080/",
     "height": 472
    },
    "id": "wHE3yS9LsRtq",
    "outputId": "39ea28db-bfa3-43f9-e7f7-9de50070aaa2"
   },
   "outputs": [
    {
     "data": {
      "image/png": "[encoded data removed]",
      "text/plain": [
       "<Figure size 640x480 with 1 Axes>"
      ]
     },
     "metadata": {},
     "output_type": "display_data"
    }
   ],
   "source": [
    "# Gerar pontos para a reta ajustada (usando intervalo de x do conjunto de treinamento)\n",
    "x_reta = np.linspace(train['x'].min(), train['x'].max(), 100)\n",
    "y_reta = lr_sgd.w0 + lr_sgd.w1 * x_reta\n",
    "\n",
    "# Plotar os dados de treinamento e a reta ajustada\n",
    "plt.scatter(train['x'], train['y'], label='Dados de Treinamento')  # Plotar apenas dados de treinamento\n",
    "plt.plot(x_reta, y_reta, color='red', label='Reta Ajustada')\n",
    "plt.xlabel('x')\n",
    "plt.ylabel('y')\n",
    "plt.title('Reta Ajustada sobre os Dados de Treinamento')\n",
    "plt.legend()\n",
    "plt.show()"
   ]
  },
  {
   "cell_type": "code",
   "execution_count": null,
   "metadata": {
    "colab": {
     "base_uri": "https://localhost:8080/",
     "height": 237
    },
    "id": "qEA3f8eeomVb",
    "outputId": "33fd2bf6-f7b9-4092-ce95-e120c1374e1f"
   },
   "outputs": [
    {
     "data": {
      "text/html": [
       "<div>\n",
       "<style scoped>\n",
       "    .dataframe tbody tr th:only-of-type {\n",
       "        vertical-align: middle;\n",
       "    }\n",
       "\n",
       "    .dataframe tbody tr th {\n",
       "        vertical-align: top;\n",
       "    }\n",
       "\n",
       "    .dataframe thead th {\n",
       "        text-align: right;\n",
       "    }\n",
       "</style>\n",
       "<table border=\"1\" class=\"dataframe\">\n",
       "  <thead>\n",
       "    <tr style=\"text-align: right;\">\n",
       "      <th></th>\n",
       "      <th>x</th>\n",
       "      <th>y</th>\n",
       "      <th>y_pred_gd</th>\n",
       "      <th>y_pred_sgd</th>\n",
       "    </tr>\n",
       "  </thead>\n",
       "  <tbody>\n",
       "    <tr>\n",
       "      <th>0</th>\n",
       "      <td>-0.103448</td>\n",
       "      <td>-0.452023</td>\n",
       "      <td>0.003066</td>\n",
       "      <td>-0.052701</td>\n",
       "    </tr>\n",
       "    <tr>\n",
       "      <th>1</th>\n",
       "      <td>-1.000000</td>\n",
       "      <td>-2.082017</td>\n",
       "      <td>-1.357749</td>\n",
       "      <td>-1.397398</td>\n",
       "    </tr>\n",
       "    <tr>\n",
       "      <th>2</th>\n",
       "      <td>0.793103</td>\n",
       "      <td>0.823322</td>\n",
       "      <td>1.363882</td>\n",
       "      <td>1.291996</td>\n",
       "    </tr>\n",
       "    <tr>\n",
       "      <th>3</th>\n",
       "      <td>-0.862069</td>\n",
       "      <td>-1.105598</td>\n",
       "      <td>-1.148393</td>\n",
       "      <td>-1.190522</td>\n",
       "    </tr>\n",
       "    <tr>\n",
       "      <th>4</th>\n",
       "      <td>-0.241379</td>\n",
       "      <td>-1.235951</td>\n",
       "      <td>-0.206290</td>\n",
       "      <td>-0.259577</td>\n",
       "    </tr>\n",
       "    <tr>\n",
       "      <th>5</th>\n",
       "      <td>-0.586207</td>\n",
       "      <td>-0.794754</td>\n",
       "      <td>-0.729680</td>\n",
       "      <td>-0.776769</td>\n",
       "    </tr>\n",
       "  </tbody>\n",
       "</table>\n",
       "</div>"
      ],
      "text/plain": [
       "          x         y  y_pred_gd  y_pred_sgd\n",
       "0 -0.103448 -0.452023   0.003066   -0.052701\n",
       "1 -1.000000 -2.082017  -1.357749   -1.397398\n",
       "2  0.793103  0.823322   1.363882    1.291996\n",
       "3 -0.862069 -1.105598  -1.148393   -1.190522\n",
       "4 -0.241379 -1.235951  -0.206290   -0.259577\n",
       "5 -0.586207 -0.794754  -0.729680   -0.776769"
      ]
     },
     "execution_count": 74,
     "metadata": {},
     "output_type": "execute_result"
    }
   ],
   "source": [
    "# Teste do treinamento\n",
    "y_pred = lr_sgd.predict(test['x'])\n",
    "test['y_pred_sgd'] = y_pred\n",
    "test"
   ]
  },
  {
   "cell_type": "code",
   "execution_count": 89,
   "metadata": {},
   "outputs": [
    {
     "data": {
      "text/plain": [
       "<Figure size 640x480 with 0 Axes>"
      ]
     },
     "metadata": {},
     "output_type": "display_data"
    }
   ],
   "source": [
    "#Cria e salva uma serie de graficos com o historico de w0 e w1 para montar o gif\n",
    "for i in range(len(lr_sgd.w0_hist)):\n",
    "    x_reta = np.linspace(train['x'].min(), train['x'].max(), 100)\n",
    "    y_reta = lr_sgd.w0_hist[i] + lr_sgd.w1_hist[i] * x_reta\n",
    "\n",
    "    # Plotar os dados de treinamento e a reta ajustada\n",
    "    plt.scatter(train['x'], train['y'], label='Dados de Treinamento')  # Plotar apenas dados de treinamento\n",
    "    plt.plot(x_reta, y_reta, color='red', label='Reta Ajustada')\n",
    "    plt.xlabel('x')\n",
    "    plt.ylabel('y')\n",
    "    plt.title('Ajuste da reta sobre os Dados de Treinamento Para o SDG')\n",
    "    plt.legend()\n",
    "    plt.savefig(f'graficos/sgd/grafico{i}.png')\n",
    "    plt.clf()"
   ]
  },
  {
   "cell_type": "markdown",
   "metadata": {
    "id": "uMQilh9HR4PC"
   },
   "source": [
    "## Modelo com otimizador OLS"
   ]
  },
  {
   "cell_type": "code",
   "execution_count": null,
   "metadata": {
    "id": "Sp6WpJa7R8wJ"
   },
   "outputs": [],
   "source": [
    "# Instancia o modelo com o OLS como otimizador \n",
    "lr_ols = LinearRegression(opt='OLS')"
   ]
  },
  {
   "cell_type": "code",
   "execution_count": null,
   "metadata": {
    "colab": {
     "base_uri": "https://localhost:8080/"
    },
    "id": "ugxP05jwSLw_",
    "outputId": "273e93f8-6fd1-4fba-c9d0-1a137679294d"
   },
   "outputs": [
    {
     "name": "stdout",
     "output_type": "stream",
     "text": [
      "[0.15980802 1.52008304]\n"
     ]
    }
   ],
   "source": [
    "lr_ols.fit(train['x'], train['y'])# Chamada do treinamento"
   ]
  },
  {
   "cell_type": "code",
   "execution_count": null,
   "metadata": {
    "colab": {
     "base_uri": "https://localhost:8080/"
    },
    "id": "sMg4RDdlTecq",
    "outputId": "d140cdfb-397b-413e-9d2d-7e7bf5bb8243"
   },
   "outputs": [
    {
     "data": {
      "text/plain": [
       "0.1598080169811403"
      ]
     },
     "execution_count": 77,
     "metadata": {},
     "output_type": "execute_result"
    }
   ],
   "source": [
    "# Exemplo de W0\n",
    "lr_ols.w0"
   ]
  },
  {
   "cell_type": "code",
   "execution_count": null,
   "metadata": {
    "colab": {
     "base_uri": "https://localhost:8080/"
    },
    "id": "OGY_lagnU-NB",
    "outputId": "10185141-4b7b-4394-c1d2-e3c20485859d"
   },
   "outputs": [
    {
     "data": {
      "text/plain": [
       "1.5200830385116246"
      ]
     },
     "execution_count": 78,
     "metadata": {},
     "output_type": "execute_result"
    }
   ],
   "source": [
    "# Exemplo de W1\n",
    "lr_ols.w1"
   ]
  },
  {
   "cell_type": "code",
   "execution_count": 79,
   "metadata": {
    "colab": {
     "base_uri": "https://localhost:8080/",
     "height": 472
    },
    "id": "_6dXal55Xd6o",
    "outputId": "a87ce793-0cad-4b70-90d0-806ea7e9c28b"
   },
   "outputs": [
    {
     "data": {
      "image/png": "[encoded data removed]",
      "text/plain": [
       "<Figure size 640x480 with 1 Axes>"
      ]
     },
     "metadata": {},
     "output_type": "display_data"
    }
   ],
   "source": [
    "# Gerar pontos para a reta ajustada (usando intervalo de x do conjunto de treinamento)\n",
    "x_reta = np.linspace(train['x'].min(), train['x'].max(), 100)\n",
    "y_reta = lr_ols.w0 + lr_ols.w1 * x_reta\n",
    "\n",
    "# Plotar os dados de treinamento e a reta ajustada\n",
    "plt.scatter(train['x'], train['y'], label='Dados de Treinamento')  # Plotar apenas dados de treinamento\n",
    "plt.plot(x_reta, y_reta, color='red', label='Reta Ajustada')\n",
    "plt.xlabel('x')\n",
    "plt.ylabel('y')\n",
    "plt.title('Reta Ajustada sobre os Dados de Treinamento')\n",
    "plt.legend()\n",
    "plt.show()"
   ]
  },
  {
   "cell_type": "code",
   "execution_count": null,
   "metadata": {
    "colab": {
     "base_uri": "https://localhost:8080/",
     "height": 237
    },
    "id": "EwWdeg6CXq_h",
    "outputId": "f596234f-5820-40b7-db91-70bc95ab5e1d"
   },
   "outputs": [
    {
     "data": {
      "text/html": [
       "<div>\n",
       "<style scoped>\n",
       "    .dataframe tbody tr th:only-of-type {\n",
       "        vertical-align: middle;\n",
       "    }\n",
       "\n",
       "    .dataframe tbody tr th {\n",
       "        vertical-align: top;\n",
       "    }\n",
       "\n",
       "    .dataframe thead th {\n",
       "        text-align: right;\n",
       "    }\n",
       "</style>\n",
       "<table border=\"1\" class=\"dataframe\">\n",
       "  <thead>\n",
       "    <tr style=\"text-align: right;\">\n",
       "      <th></th>\n",
       "      <th>x</th>\n",
       "      <th>y</th>\n",
       "      <th>y_pred_gd</th>\n",
       "      <th>y_pred_sgd</th>\n",
       "      <th>y_pred_ols</th>\n",
       "    </tr>\n",
       "  </thead>\n",
       "  <tbody>\n",
       "    <tr>\n",
       "      <th>0</th>\n",
       "      <td>-0.103448</td>\n",
       "      <td>-0.452023</td>\n",
       "      <td>0.003066</td>\n",
       "      <td>-0.052701</td>\n",
       "      <td>0.002558</td>\n",
       "    </tr>\n",
       "    <tr>\n",
       "      <th>1</th>\n",
       "      <td>-1.000000</td>\n",
       "      <td>-2.082017</td>\n",
       "      <td>-1.357749</td>\n",
       "      <td>-1.397398</td>\n",
       "      <td>-1.360275</td>\n",
       "    </tr>\n",
       "    <tr>\n",
       "      <th>2</th>\n",
       "      <td>0.793103</td>\n",
       "      <td>0.823322</td>\n",
       "      <td>1.363882</td>\n",
       "      <td>1.291996</td>\n",
       "      <td>1.365391</td>\n",
       "    </tr>\n",
       "    <tr>\n",
       "      <th>3</th>\n",
       "      <td>-0.862069</td>\n",
       "      <td>-1.105598</td>\n",
       "      <td>-1.148393</td>\n",
       "      <td>-1.190522</td>\n",
       "      <td>-1.150608</td>\n",
       "    </tr>\n",
       "    <tr>\n",
       "      <th>4</th>\n",
       "      <td>-0.241379</td>\n",
       "      <td>-1.235951</td>\n",
       "      <td>-0.206290</td>\n",
       "      <td>-0.259577</td>\n",
       "      <td>-0.207109</td>\n",
       "    </tr>\n",
       "    <tr>\n",
       "      <th>5</th>\n",
       "      <td>-0.586207</td>\n",
       "      <td>-0.794754</td>\n",
       "      <td>-0.729680</td>\n",
       "      <td>-0.776769</td>\n",
       "      <td>-0.731275</td>\n",
       "    </tr>\n",
       "  </tbody>\n",
       "</table>\n",
       "</div>"
      ],
      "text/plain": [
       "          x         y  y_pred_gd  y_pred_sgd  y_pred_ols\n",
       "0 -0.103448 -0.452023   0.003066   -0.052701    0.002558\n",
       "1 -1.000000 -2.082017  -1.357749   -1.397398   -1.360275\n",
       "2  0.793103  0.823322   1.363882    1.291996    1.365391\n",
       "3 -0.862069 -1.105598  -1.148393   -1.190522   -1.150608\n",
       "4 -0.241379 -1.235951  -0.206290   -0.259577   -0.207109\n",
       "5 -0.586207 -0.794754  -0.729680   -0.776769   -0.731275"
      ]
     },
     "execution_count": 80,
     "metadata": {},
     "output_type": "execute_result"
    }
   ],
   "source": [
    "# Teste do treinamento\n",
    "y_pred = lr_ols.predict(test['x'])\n",
    "test['y_pred_ols'] = y_pred\n",
    "test"
   ]
  }
 ],
 "metadata": {
  "colab": {
   "authorship_tag": "ABX9TyPcgpIKygt1AxXMkGi2zLEY",
   "collapsed_sections": [
    "ZwK3rmyyrK7q",
    "2UEMHLoWrKPI"
   ],
   "include_colab_link": true,
   "mount_file_id": "1Xo9aU1pE2f_zKryuvuIqCTT-fL2X0dLG",
   "provenance": []
  },
  "kernelspec": {
   "display_name": "Python 3",
   "name": "python3"
  },
  "language_info": {
   "codemirror_mode": {
    "name": "ipython",
    "version": 3
   },
   "file_extension": ".py",
   "mimetype": "text/x-python",
   "name": "python",
   "nbconvert_exporter": "python",
   "pygments_lexer": "ipython3",
   "version": "3.12.8"
  }
 },
 "nbformat": 4,
 "nbformat_minor": 0
}
